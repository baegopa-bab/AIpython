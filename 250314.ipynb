{
  "nbformat": 4,
  "nbformat_minor": 0,
  "metadata": {
    "colab": {
      "provenance": []
    },
    "kernelspec": {
      "name": "python3",
      "display_name": "Python 3"
    },
    "language_info": {
      "name": "python"
    }
  },
  "cells": [
    {
      "cell_type": "code",
      "execution_count": 26,
      "metadata": {
        "colab": {
          "base_uri": "https://localhost:8080/"
        },
        "id": "Wy7FgyBpdVE3",
        "outputId": "119a8f0f-695f-4b4b-b8c0-2283baa52274"
      },
      "outputs": [
        {
          "output_type": "stream",
          "name": "stdout",
          "text": [
            "반지름이 5인 원의 면적은 78.5398 입니다\n"
          ]
        }
      ],
      "source": [
        "#문제1: 반지름이 5인 원의 면적 구하기\n",
        "r=5\n",
        "pi=3.141592\n",
        "\n",
        "A=r*r*pi\n",
        "print(\"반지름이\", str(r)+\"인 원의 면적은\", A, \"입니다\")"
      ]
    },
    {
      "cell_type": "code",
      "source": [
        "#문제2: 분(정수)을 시간과 분으로 변환하여 출력하시오\n",
        "min_ver=100\n",
        "\n",
        "hour=min_ver//60\n",
        "min=min_ver-60*hour\n",
        "\n",
        "print(str(min_ver)+\"분은\",str(hour)+\"시간\", str(min)+\"분\", \"입니다.\")"
      ],
      "metadata": {
        "colab": {
          "base_uri": "https://localhost:8080/"
        },
        "id": "CtHBTJxDd5Gz",
        "outputId": "ba4843d9-8c27-41c6-c5c6-1bdc4289eeda"
      },
      "execution_count": 17,
      "outputs": [
        {
          "output_type": "stream",
          "name": "stdout",
          "text": [
            "100분은 1시간 40분 입니다.\n"
          ]
        }
      ]
    }
  ]
}