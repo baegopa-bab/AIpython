{
 "cells": [
  {
   "cell_type": "code",
   "execution_count": 11,
   "id": "e064ff0f-5cc0-4cc1-b09e-61155b692ac7",
   "metadata": {},
   "outputs": [
    {
     "name": "stdin",
     "output_type": "stream",
     "text": [
      "온도 종류(섭씨 또는 화씨):  섭씨\n",
      "섭씨 온도:  19\n"
     ]
    },
    {
     "name": "stdout",
     "output_type": "stream",
     "text": [
      "온도: 19.00\n",
      "화씨 온도 66.2\n"
     ]
    }
   ],
   "source": [
    "kind = input('온도 종류(섭씨 또는 화씨): ')\n",
    "temp = int(input(kind+' 온도: '))\n",
    "print(\"온도: %.2f\" % temp)\n",
    "if kind == '섭씨':\n",
    "    print(f'화씨 온도 {temp*9/5+32}')\n",
    "else:\n",
    "    print(f'섭씨 온도 {(temp-32)*5/9}')"
   ]
  },
  {
   "cell_type": "code",
   "execution_count": 15,
   "id": "d4d9b5b6-8dbe-43e7-b653-d230d83c07bb",
   "metadata": {},
   "outputs": [
    {
     "name": "stdout",
     "output_type": "stream",
     "text": [
      "1부터 100까지의 수 하나를 정했습니다.\n",
      "이 숫자를 맞혀보세요.\n",
      "74\n"
     ]
    },
    {
     "name": "stdin",
     "output_type": "stream",
     "text": [
      "1~100 숫자 입력:  50\n"
     ]
    },
    {
     "name": "stdout",
     "output_type": "stream",
     "text": [
      "50보다 큽니다.\n"
     ]
    },
    {
     "name": "stdin",
     "output_type": "stream",
     "text": [
      "1~100 숫자 입력:  75\n"
     ]
    },
    {
     "name": "stdout",
     "output_type": "stream",
     "text": [
      "75보다 작습니다.\n"
     ]
    },
    {
     "name": "stdin",
     "output_type": "stream",
     "text": [
      "1~100 숫자 입력:  62\n"
     ]
    },
    {
     "name": "stdout",
     "output_type": "stream",
     "text": [
      "62보다 큽니다.\n"
     ]
    },
    {
     "name": "stdin",
     "output_type": "stream",
     "text": [
      "1~100 숫자 입력:  68\n"
     ]
    },
    {
     "name": "stdout",
     "output_type": "stream",
     "text": [
      "68보다 큽니다.\n"
     ]
    },
    {
     "name": "stdin",
     "output_type": "stream",
     "text": [
      "1~100 숫자 입력:  72\n"
     ]
    },
    {
     "name": "stdout",
     "output_type": "stream",
     "text": [
      "72보다 큽니다.\n"
     ]
    },
    {
     "name": "stdin",
     "output_type": "stream",
     "text": [
      "1~100 숫자 입력:  74\n"
     ]
    },
    {
     "name": "stdout",
     "output_type": "stream",
     "text": [
      "정답입니다! 6회 만에 맞혔습니다.\n"
     ]
    }
   ],
   "source": [
    "import random\n",
    "\n",
    "print('1부터 100까지의 수 하나를 정했습니다.')\n",
    "print('이 숫자를 맞혀보세요.')\n",
    "\n",
    "answer = random.randint(1,100)\n",
    "print(answer)\n",
    "times = 0\n",
    "\n",
    "while True:\n",
    "    user = int(input('1~100 숫자 입력: '))\n",
    "    times +=1\n",
    "    if user == answer:\n",
    "        break\n",
    "    elif user < answer:\n",
    "        print(f'{user}보다 큽니다.')\n",
    "    else:\n",
    "        print(f'{user}보다 작습니다.')\n",
    "\n",
    "print(f'정답입니다! {times}회 만에 맞혔습니다.')"
   ]
  },
  {
   "cell_type": "code",
   "execution_count": 17,
   "id": "6cb60732-ecb1-4269-9b17-df90cdd23033",
   "metadata": {},
   "outputs": [
    {
     "name": "stdout",
     "output_type": "stream",
     "text": [
      "[35, 27, 12, 28, 39, 26]\n"
     ]
    }
   ],
   "source": [
    "import random\n",
    "my_list = []\n",
    "\n",
    "for i in range(1, 7):\n",
    "    num=random.randint(1, 45)\n",
    "    my_list.append(num)\n",
    "\n",
    "print(my_list)"
   ]
  },
  {
   "cell_type": "code",
   "execution_count": 18,
   "id": "74152464-89e5-4a11-bf5d-3d1a1fec5a34",
   "metadata": {},
   "outputs": [],
   "source": [
    "성적 = [85, 92 , 78, 90, 87]\n",
    "평균 = sum(성적) / len(성적)"
   ]
  },
  {
   "cell_type": "code",
   "execution_count": 19,
   "id": "4a389631-9307-41b6-9f7d-8da39ffb0367",
   "metadata": {},
   "outputs": [
    {
     "data": {
      "text/plain": [
       "86.4"
      ]
     },
     "execution_count": 19,
     "metadata": {},
     "output_type": "execute_result"
    }
   ],
   "source": [
    "평균"
   ]
  },
  {
   "cell_type": "code",
   "execution_count": 22,
   "id": "198c7d69-b62b-4369-ac09-45349827ee04",
   "metadata": {},
   "outputs": [
    {
     "name": "stdout",
     "output_type": "stream",
     "text": [
      "총합: 432\n",
      "평균: 86.4\n"
     ]
    }
   ],
   "source": [
    "#제어문을 활용해서 총합과 평균을 구하시오\n",
    "성적 = [85, 92 , 78, 90, 87]\n",
    "\n",
    "총합 = 0\n",
    "for 점수 in 성적:\n",
    "    총합 += 점수\n",
    "\n",
    "평균 = 총합 / len(성적)\n",
    "print(\"총합:\", 총합)\n",
    "print(\"평균:\", 평균)"
   ]
  },
  {
   "cell_type": "code",
   "execution_count": 23,
   "id": "5ff3392d-9167-43ce-83bc-db39926c9b9f",
   "metadata": {},
   "outputs": [
    {
     "name": "stdout",
     "output_type": "stream",
     "text": [
      "과일 리스트: ['사과', '바나나', '딸기', '포도']\n",
      "첫 번째 과일: 사과\n",
      "마지막 과일: 포도\n"
     ]
    }
   ],
   "source": [
    "# 문제 1: 리스트 생성 및 요소 접근\n",
    "fruits = [\"사과\", \"바나나\", \"딸기\", \"포도\"]\n",
    "print(f\"과일 리스트: {fruits}\")\n",
    "first_fruit = fruits[0]\n",
    "print(f\"첫 번째 과일: {first_fruit}\")\n",
    "last_fruit = fruits[-1]\n",
    "print(f\"마지막 과일: {last_fruit}\")\n"
   ]
  }
 ],
 "metadata": {
  "kernelspec": {
   "display_name": "Python 3 (ipykernel)",
   "language": "python",
   "name": "python3"
  },
  "language_info": {
   "codemirror_mode": {
    "name": "ipython",
    "version": 3
   },
   "file_extension": ".py",
   "mimetype": "text/x-python",
   "name": "python",
   "nbconvert_exporter": "python",
   "pygments_lexer": "ipython3",
   "version": "3.12.6"
  }
 },
 "nbformat": 4,
 "nbformat_minor": 5
}
