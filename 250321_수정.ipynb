{
  "nbformat": 4,
  "nbformat_minor": 0,
  "metadata": {
    "colab": {
      "provenance": [],
      "authorship_tag": "ABX9TyOnbyQlrz0BRM25NPNOH505",
      "include_colab_link": true
    },
    "kernelspec": {
      "name": "python3",
      "display_name": "Python 3"
    },
    "language_info": {
      "name": "python"
    }
  },
  "cells": [
    {
      "cell_type": "markdown",
      "metadata": {
        "id": "view-in-github",
        "colab_type": "text"
      },
      "source": [
        "<a href=\"https://colab.research.google.com/github/baegopa-bab/AIpython/blob/main/250321_%EC%88%98%EC%A0%95.ipynb\" target=\"_parent\"><img src=\"https://colab.research.google.com/assets/colab-badge.svg\" alt=\"Open In Colab\"/></a>"
      ]
    },
    {
      "cell_type": "code",
      "execution_count": 1,
      "metadata": {
        "colab": {
          "base_uri": "https://localhost:8080/"
        },
        "id": "bOHyN_d6ILcf",
        "outputId": "bb3d36cf-da1b-47e1-9ef2-e1c6b5c3e335"
      },
      "outputs": [
        {
          "output_type": "stream",
          "name": "stdout",
          "text": [
            "나이를 입력하세요:25\n",
            "당신은 내년에 26 살입니다.\n"
          ]
        }
      ],
      "source": [
        "age = input(\"나이를 입력하세요:\") #age는 문자열!\n",
        "age = int(age) # 숫자로 변경!\n",
        "print(\"당신은 내년에\", age + 1, \"살입니다.\")"
      ]
    },
    {
      "cell_type": "code",
      "source": [
        "age = input(\"나이를 입력하세요:\") #age는 문자열!\n",
        "age = int(age) # 숫자로 변경!\n",
        "age = age + 1\n",
        "print(\"당신은 내년에\", age, \"살입니다.\")"
      ],
      "metadata": {
        "colab": {
          "base_uri": "https://localhost:8080/"
        },
        "id": "MgozKtMLIowd",
        "outputId": "fee274ec-a0c1-4616-bc0a-e471283b1506"
      },
      "execution_count": 2,
      "outputs": [
        {
          "output_type": "stream",
          "name": "stdout",
          "text": [
            "나이를 입력하세요:25\n",
            "당신은 내년에 26 살입니다.\n"
          ]
        }
      ]
    },
    {
      "cell_type": "code",
      "source": [
        "age = input(\"나이를 입력하세요:\") #age는 문자열!\n",
        "#age = int(age) # 숫자로 변경!\n",
        "print(\"당신은 내년에\", \"age + 1\", \"살입니다.\")"
      ],
      "metadata": {
        "colab": {
          "base_uri": "https://localhost:8080/"
        },
        "id": "93_lJbT2Io-J",
        "outputId": "49c7f3fd-05cd-4b7f-e899-ffd5a714fcb1"
      },
      "execution_count": 3,
      "outputs": [
        {
          "output_type": "stream",
          "name": "stdout",
          "text": [
            "나이를 입력하세요:20\n",
            "당신은 내년에 age + 1 살입니다.\n"
          ]
        }
      ]
    },
    {
      "cell_type": "code",
      "source": [
        "age = input(\"나이를 입력하세요:\") #age는 문자열!\n",
        "#age = int(age) # 숫자로 변경!\n",
        "print(str(age)+\"살입니다.\")"
      ],
      "metadata": {
        "colab": {
          "base_uri": "https://localhost:8080/"
        },
        "id": "fDJ-IerUIpHW",
        "outputId": "53e236ee-e1a2-43b6-b12c-029754433395"
      },
      "execution_count": 4,
      "outputs": [
        {
          "output_type": "stream",
          "name": "stdout",
          "text": [
            "나이를 입력하세요:20\n",
            "20살입니다.\n"
          ]
        }
      ]
    },
    {
      "cell_type": "code",
      "source": [
        "#입력한 숫자의 양수/음수 유무 판단\n",
        "num = int(input(\"숫자를 입력:\"))\n",
        "\n",
        "if num > 0:\n",
        "    print(\"양수입니다\")\n",
        "elif num < 0:\n",
        "    print(\"음수입니다\")\n",
        "else:\n",
        "    print(\"0입니다\")"
      ],
      "metadata": {
        "colab": {
          "base_uri": "https://localhost:8080/"
        },
        "id": "mtoCFdYzI1Bm",
        "outputId": "84d0eaef-9f0b-497b-f2c3-69535223647f"
      },
      "execution_count": 5,
      "outputs": [
        {
          "output_type": "stream",
          "name": "stdout",
          "text": [
            "숫자를 입력:23\n",
            "양수입니다\n"
          ]
        }
      ]
    },
    {
      "cell_type": "code",
      "source": [
        "num = int(input(\"숫자를 입력:\"))\n",
        "\n",
        "if num % 2 == 0:\n",
        "    print(\"짝수입니다\")\n",
        "\n",
        "else:\n",
        "    print(\"홀수입니다\")"
      ],
      "metadata": {
        "colab": {
          "base_uri": "https://localhost:8080/"
        },
        "id": "UkDYreU1I4_0",
        "outputId": "3b2c498b-a5ad-4262-fca2-01b7acc0bd86"
      },
      "execution_count": 7,
      "outputs": [
        {
          "output_type": "stream",
          "name": "stdout",
          "text": [
            "숫자를 입력:1\n",
            "홀수입니다\n"
          ]
        }
      ]
    },
    {
      "cell_type": "code",
      "source": [
        "num = int(input(\"숫자를 입력:\"))\n",
        "\n",
        "if num ==1 or num==2 or num==3:\n",
        "  print(\"OK\")\n",
        "\n",
        "else:\n",
        "  print(\"오류입니다.\")"
      ],
      "metadata": {
        "colab": {
          "base_uri": "https://localhost:8080/"
        },
        "id": "4elpTefpI_mm",
        "outputId": "a2241615-41bf-4086-bd71-d06e3185b2bb"
      },
      "execution_count": 8,
      "outputs": [
        {
          "output_type": "stream",
          "name": "stdout",
          "text": [
            "숫자를 입력:4\n",
            "오류입니다.\n"
          ]
        }
      ]
    },
    {
      "cell_type": "code",
      "source": [
        "a,b=map(int, input().split())"
      ],
      "metadata": {
        "colab": {
          "base_uri": "https://localhost:8080/"
        },
        "id": "S8UemM_sJDqL",
        "outputId": "6f6a4bcd-bd5c-4169-a0a3-184d3aa7ebc6"
      },
      "execution_count": 9,
      "outputs": [
        {
          "name": "stdout",
          "output_type": "stream",
          "text": [
            "2 3\n"
          ]
        }
      ]
    },
    {
      "cell_type": "code",
      "source": [
        "a"
      ],
      "metadata": {
        "colab": {
          "base_uri": "https://localhost:8080/"
        },
        "id": "pJRV5VzZJFne",
        "outputId": "c276a130-31ba-4f75-9526-756d346128df"
      },
      "execution_count": 10,
      "outputs": [
        {
          "output_type": "execute_result",
          "data": {
            "text/plain": [
              "2"
            ]
          },
          "metadata": {},
          "execution_count": 10
        }
      ]
    },
    {
      "cell_type": "code",
      "source": [
        "b"
      ],
      "metadata": {
        "colab": {
          "base_uri": "https://localhost:8080/"
        },
        "id": "mj4gRsdlJHGn",
        "outputId": "6f71abeb-bee4-43eb-9431-0059d166c2b9"
      },
      "execution_count": 11,
      "outputs": [
        {
          "output_type": "execute_result",
          "data": {
            "text/plain": [
              "3"
            ]
          },
          "metadata": {},
          "execution_count": 11
        }
      ]
    },
    {
      "cell_type": "code",
      "source": [
        "a,b=map(int, input().split())\n",
        "\n",
        "if a==b:\n",
        " print(\"무승부입니다.\")"
      ],
      "metadata": {
        "colab": {
          "base_uri": "https://localhost:8080/"
        },
        "id": "2IR3Bd1qJHyq",
        "outputId": "c4e613bc-dfeb-4645-f296-3c548cf46472"
      },
      "execution_count": 12,
      "outputs": [
        {
          "output_type": "stream",
          "name": "stdout",
          "text": [
            "1 1\n",
            "무승부입니다.\n"
          ]
        }
      ]
    },
    {
      "cell_type": "code",
      "source": [
        "a,b=map(int, input().split())\n",
        "#오류\n",
        "if a!= 1 and a!= 2 and a!=3:\n",
        "    print(\"잘못된 입력\")\n",
        "if b!=1 and b!=2 and b!=3:\n",
        "    print(\"잘못된 입력\")\n",
        "else:\n",
        "#A가 이기는 경우\n",
        " if (a == 1 and b ==3) or (a == 2 and b == 1) or (a==3 and b ==2):\n",
        "    print(\"A승B패\")\n",
        "\n",
        "#비기는 경우\n",
        " elif a==b:\n",
        "  print(\"무승부입니다.\")\n",
        "\n",
        "#B가 이기는경우\n",
        " else:\n",
        "    print(\"B승A패\")"
      ],
      "metadata": {
        "colab": {
          "base_uri": "https://localhost:8080/"
        },
        "id": "WxAbz5QIJOzm",
        "outputId": "f1cbf255-883e-48d8-a1f8-e4bb5d142fd2"
      },
      "execution_count": 13,
      "outputs": [
        {
          "output_type": "stream",
          "name": "stdout",
          "text": [
            "4 2\n",
            "잘못된 입력\n",
            "B승A패\n"
          ]
        }
      ]
    },
    {
      "cell_type": "code",
      "source": [
        "a, b = map(int, input().split())\n",
        "\n",
        "# 1, 2, 3 이외의 숫자일 경우\n",
        "if a < 1 or a > 3 or b < 1 or b > 3:\n",
        "    print(\"잘못된입력\")\n",
        "elif a == b:\n",
        "    print(\"무승부\")\n",
        "elif (a == 1 and b == 3) or (a == 2 and b == 1) or (a == 3 and b == 2):\n",
        "    print(\"A승B패\")\n",
        "else:\n",
        "    print(\"B승A패\")"
      ],
      "metadata": {
        "colab": {
          "base_uri": "https://localhost:8080/"
        },
        "id": "ycaJlCU_JTXH",
        "outputId": "f5165fb7-73d8-416a-bd2c-844c26a71e9d"
      },
      "execution_count": 14,
      "outputs": [
        {
          "output_type": "stream",
          "name": "stdout",
          "text": [
            "4 2\n",
            "잘못된입력\n"
          ]
        }
      ]
    }
  ]
}