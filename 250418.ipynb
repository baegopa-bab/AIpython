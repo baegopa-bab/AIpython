{
 "cells": [
  {
   "cell_type": "code",
   "execution_count": 5,
   "id": "702366ba-b3f1-4efe-a022-9ae2dd131772",
   "metadata": {},
   "outputs": [
    {
     "name": "stdout",
     "output_type": "stream",
     "text": [
      "학생 정보 딕셔너리: {'name': '김민수', 'age': 20, 'major': '컴퓨터공학'}\n",
      "이름: 김민수\n",
      "나이: 20\n",
      "전공: 컴퓨터공학\n"
     ]
    }
   ],
   "source": [
    "# 문제 1: 딕셔너리 생성 및 요소 접근\n",
    "student = {\n",
    "'name': '김민수',\n",
    "'age': 20,\n",
    "'major': '컴퓨터공학'\n",
    "}\n",
    "print(f\"학생 정보 딕셔너리: {student}\")\n",
    "name = student['name']\n",
    "print(f\"이름: {name}\")\n",
    "age = student['age']\n",
    "print(f\"나이: {age}\")\n",
    "major = student['major']\n",
    "print(f\"전공: {major}\")"
   ]
  },
  {
   "cell_type": "code",
   "execution_count": 6,
   "id": "49476e18-9cfe-422a-9241-dd824929d43a",
   "metadata": {},
   "outputs": [
    {
     "name": "stdout",
     "output_type": "stream",
     "text": [
      "원래 학생 정보 딕셔너리: {'name': '김민수', 'age': 20, 'major': '컴퓨터공학'}\n",
      "요소 추가 후 딕셔너리: {'name': '김민수', 'age': 20, 'major': '컴퓨터공학', 'grade': 4.0}\n",
      "요소 삭제 후 딕셔너리: {'name': '김민수', 'age': 20, 'grade': 4.0}\n"
     ]
    }
   ],
   "source": [
    "# 문제 2: 딕셔너리 요소 추가 및 삭제\n",
    "\n",
    "print(f\"원래 학생 정보 딕셔너리: {student}\")\n",
    "student['grade'] = 4.0 # 새로운 키 'grade'와 값 추가\n",
    "print(f\"요소 추가 후 딕셔너리: {student}\")\n",
    "del student['major'] # 키 'major'와 값 삭제\n",
    "print(f\"요소 삭제 후 딕셔너리: {student}\")"
   ]
  },
  {
   "cell_type": "code",
   "execution_count": 7,
   "id": "63b0f17d-9c2c-407e-8339-b7cdbecc7593",
   "metadata": {},
   "outputs": [
    {
     "name": "stdout",
     "output_type": "stream",
     "text": [
      "과일 가격 정보:\n",
      "사과: 1500원\n",
      "바나나: 800원\n",
      "딸기: 3000원\n",
      "오렌지: 1200원\n",
      "\n",
      "과일 목록:\n",
      "사과\n",
      "바나나\n",
      "딸기\n",
      "오렌지\n",
      "\n",
      "가격 목록:\n",
      "1500원\n",
      "800원\n",
      "3000원\n",
      "1200원\n"
     ]
    }
   ],
   "source": [
    "# 문제 3: 딕셔너리 키와 값 순회하며 출력\n",
    "fruit_prices = {\n",
    "'사과': 1500,\n",
    "'바나나': 800,\n",
    "'딸기': 3000,\n",
    "'오렌지': 1200\n",
    "}\n",
    "print(\"과일 가격 정보:\")\n",
    "\n",
    "for fruit, price in fruit_prices.items():\n",
    "    print(f\"{fruit}: {price}원\")\n",
    "\n",
    "print(\"\\n과일 목록:\")\n",
    "\n",
    "for fruit in fruit_prices.keys():\n",
    "    print(fruit)\n",
    "\n",
    "print(\"\\n가격 목록:\")\n",
    "\n",
    "for price in fruit_prices.values():\n",
    "    print(f\"{price}원\")\n"
   ]
  },
  {
   "cell_type": "code",
   "execution_count": 8,
   "id": "7d90c786-2258-416f-be28-518dd3f2d0db",
   "metadata": {},
   "outputs": [
    {
     "name": "stdout",
     "output_type": "stream",
     "text": [
      "원래 과일 가격 딕셔너리: {'사과': 1500, '바나나': 800, '딸기': 3000, '오렌지': 1200}\n",
      "가격 변경 후 과일 가격 딕셔너리: {'사과': 1800, '바나나': 800, '딸기': 3000, '오렌지': 1200}\n"
     ]
    }
   ],
   "source": [
    "# 문제 4: 딕셔너리 요소 값 변경\n",
    "\n",
    "print(f\"원래 과일 가격 딕셔너리: {fruit_prices}\")\n",
    "fruit_prices['사과'] = 1800 # '사과'의 가격을 1800으로 변경\n",
    "print(f\"가격 변경 후 과일 가격 딕셔너리: {fruit_prices}\")"
   ]
  },
  {
   "cell_type": "code",
   "execution_count": 11,
   "id": "cae93897-2cfe-4c45-92a8-730fd02fbd9c",
   "metadata": {},
   "outputs": [
    {
     "name": "stdout",
     "output_type": "stream",
     "text": [
      "첫 번째 딕셔너리: {'a': 1, 'b': 2, 'c': 3}\n",
      "두 번째 딕셔너리: {'b': 4, 'd': 5}\n",
      "두 딕셔너리 합치기 (update() 결과): {'a': 1, 'b': 4, 'c': 3, 'd': 5}\n"
     ]
    }
   ],
   "source": [
    "# 문제 5: 두 개의 딕셔너리 합치기\n",
    "dict1 = {'a': 1, 'b': 2, 'c': 3}\n",
    "dict2 = {'b': 4, 'd': 5}\n",
    "print(f\"첫 번째 딕셔너리: {dict1}\")\n",
    "print(f\"두 번째 딕셔너리: {dict2}\")\n",
    "\n",
    "dict1.update(dict2) # dict2의 내용을 dict1에 업데이트 (겹치는 키는 dict2의 값으로 덮어쓰기)\n",
    "print(f\"두 딕셔너리 합치기 (update() 결과): {dict1}\")"
   ]
  },
  {
   "cell_type": "code",
   "execution_count": 19,
   "id": "705a8e9b-0259-4e14-a1f4-c5b667f93708",
   "metadata": {},
   "outputs": [
    {
     "name": "stdin",
     "output_type": "stream",
     "text": [
      " 135\n",
      " 43.01\n"
     ]
    },
    {
     "data": {
      "text/plain": [
       "23.6"
      ]
     },
     "execution_count": 19,
     "metadata": {},
     "output_type": "execute_result"
    }
   ],
   "source": [
    "tall = float(input(\"\"))\n",
    "tall_cm=tall/100\n",
    "\n",
    "weight = float(input(\"\"))\n",
    "\n",
    "bmi = weight / (tall_cm ** 2)\n",
    "bmi\n",
    "\n",
    "bmi_round = round(bmi,2)\n",
    "print(bmi_round)"
   ]
  }
 ],
 "metadata": {
  "kernelspec": {
   "display_name": "Python 3 (ipykernel)",
   "language": "python",
   "name": "python3"
  },
  "language_info": {
   "codemirror_mode": {
    "name": "ipython",
    "version": 3
   },
   "file_extension": ".py",
   "mimetype": "text/x-python",
   "name": "python",
   "nbconvert_exporter": "python",
   "pygments_lexer": "ipython3",
   "version": "3.12.6"
  }
 },
 "nbformat": 4,
 "nbformat_minor": 5
}
