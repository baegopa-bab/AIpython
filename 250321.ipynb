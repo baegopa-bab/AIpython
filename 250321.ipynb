{
 "cells": [
  {
   "cell_type": "code",
   "execution_count": 1,
   "id": "ecf8cf0e-36a8-4da2-a10f-bebe8669a370",
   "metadata": {},
   "outputs": [
    {
     "name": "stdin",
     "output_type": "stream",
     "text": [
      "나이를 입력하세요: 25\n"
     ]
    },
    {
     "name": "stdout",
     "output_type": "stream",
     "text": [
      "당신은 내년에 26 살입니다.\n"
     ]
    }
   ],
   "source": [
    "age = input(\"나이를 입력하세요:\") #age는 문자열!\n",
    "age = int(age) # 숫자로 변경!\n",
    "print(\"당신은 내년에\", age + 1, \"살입니다.\")"
   ]
  },
  {
   "cell_type": "code",
   "execution_count": 2,
   "id": "81b097aa-c37f-4f5e-8f3c-6019b4fcacc2",
   "metadata": {},
   "outputs": [
    {
     "name": "stdin",
     "output_type": "stream",
     "text": [
      "나이를 입력하세요: 25\n"
     ]
    },
    {
     "name": "stdout",
     "output_type": "stream",
     "text": [
      "당신은 내년에 26 살입니다.\n"
     ]
    }
   ],
   "source": [
    "age = input(\"나이를 입력하세요:\") #age는 문자열!\n",
    "age = int(age) # 숫자로 변경!\n",
    "age = age + 1\n",
    "print(\"당신은 내년에\", age, \"살입니다.\")"
   ]
  },
  {
   "cell_type": "code",
   "execution_count": 3,
   "id": "e0582e6f-385c-4aa6-bfb9-daf21b6f64c0",
   "metadata": {},
   "outputs": [
    {
     "name": "stdin",
     "output_type": "stream",
     "text": [
      "나이를 입력하세요: 20\n"
     ]
    },
    {
     "name": "stdout",
     "output_type": "stream",
     "text": [
      "당신은 내년에 age + 1 살입니다.\n"
     ]
    }
   ],
   "source": [
    "age = input(\"나이를 입력하세요:\") #age는 문자열!\n",
    "#age = int(age) # 숫자로 변경!\n",
    "print(\"당신은 내년에\", \"age + 1\", \"살입니다.\")"
   ]
  },
  {
   "cell_type": "code",
   "execution_count": 5,
   "id": "36164674-c5d8-46d6-8625-a4289be203b7",
   "metadata": {},
   "outputs": [
    {
     "name": "stdin",
     "output_type": "stream",
     "text": [
      "나이를 입력하세요: 20\n"
     ]
    },
    {
     "name": "stdout",
     "output_type": "stream",
     "text": [
      "20살입니다.\n"
     ]
    }
   ],
   "source": [
    "age = input(\"나이를 입력하세요:\") #age는 문자열!\n",
    "#age = int(age) # 숫자로 변경!\n",
    "print(str(age)+\"살입니다.\")"
   ]
  },
  {
   "cell_type": "code",
   "execution_count": 14,
   "id": "4b3b433d-24d4-45b4-af58-1fedc71e49ac",
   "metadata": {},
   "outputs": [
    {
     "name": "stdin",
     "output_type": "stream",
     "text": [
      "숫자를 입력: 2\n"
     ]
    },
    {
     "name": "stdout",
     "output_type": "stream",
     "text": [
      "양수입니다\n"
     ]
    }
   ],
   "source": [
    "#입력한 숫자의 양수/음수 유무 판단\n",
    "num = int(input(\"숫자를 입력:\"))\n",
    "\n",
    "if num > 0:\n",
    "    print(\"양수입니다\")\n",
    "elif num < 0:\n",
    "    print(\"음수입니다\")\n",
    "else:\n",
    "    print(\"0입니다\")"
   ]
  },
  {
   "cell_type": "code",
   "execution_count": 24,
   "id": "f562168e-6a27-4172-8b4a-52b8b90dd097",
   "metadata": {},
   "outputs": [
    {
     "name": "stdin",
     "output_type": "stream",
     "text": [
      "숫자를 입력: 20\n"
     ]
    },
    {
     "name": "stdout",
     "output_type": "stream",
     "text": [
      "짝수입니다\n"
     ]
    }
   ],
   "source": [
    "num = int(input(\"숫자를 입력:\"))\n",
    "\n",
    "if num % 2 == 0:\n",
    "    print(\"짝수입니다\")\n",
    "\n",
    "else:\n",
    "    print(\"음수입니다\")"
   ]
  },
  {
   "cell_type": "code",
   "execution_count": 37,
   "id": "f267d86f-b697-4f89-bcd2-056b6e22046c",
   "metadata": {},
   "outputs": [
    {
     "name": "stdin",
     "output_type": "stream",
     "text": [
      "숫자를 입력: 4\n"
     ]
    },
    {
     "name": "stdout",
     "output_type": "stream",
     "text": [
      "오류입니다.\n"
     ]
    }
   ],
   "source": [
    "num = int(input(\"숫자를 입력:\"))\n",
    "\n",
    "if num ==1 or num==2 or num==3:\n",
    "  print(\"OK\")\n",
    "\n",
    "else:\n",
    "  print(\"오류입니다.\")"
   ]
  },
  {
   "cell_type": "code",
   "execution_count": 49,
   "id": "3735a2c9-c946-4f06-b0ad-33d4777617bd",
   "metadata": {},
   "outputs": [
    {
     "name": "stdin",
     "output_type": "stream",
     "text": [
      " 1 1\n"
     ]
    }
   ],
   "source": [
    "a,b=map(int, input().split())"
   ]
  },
  {
   "cell_type": "code",
   "execution_count": 44,
   "id": "9020d9a1-0be6-495e-a80d-37fb75d0d6bc",
   "metadata": {},
   "outputs": [
    {
     "data": {
      "text/plain": [
       "1"
      ]
     },
     "execution_count": 44,
     "metadata": {},
     "output_type": "execute_result"
    }
   ],
   "source": [
    "a"
   ]
  },
  {
   "cell_type": "code",
   "execution_count": 56,
   "id": "b000b6ff-fc00-41d2-8232-2d93438584ce",
   "metadata": {},
   "outputs": [
    {
     "name": "stdin",
     "output_type": "stream",
     "text": [
      " 1 1\n"
     ]
    },
    {
     "name": "stdout",
     "output_type": "stream",
     "text": [
      "무승부입니다.\n"
     ]
    }
   ],
   "source": [
    "a,b=map(int, input().split())\n",
    "\n",
    "if a==b:\n",
    " print(\"무승부입니다.\")"
   ]
  },
  {
   "cell_type": "code",
   "execution_count": 66,
   "id": "f88389ed-6c64-480b-aa9c-adac114b8545",
   "metadata": {},
   "outputs": [
    {
     "name": "stdin",
     "output_type": "stream",
     "text": [
      " 4 2\n"
     ]
    },
    {
     "name": "stdout",
     "output_type": "stream",
     "text": [
      "잘못된 입력\n",
      "B승A패\n"
     ]
    }
   ],
   "source": [
    "a,b=map(int, input().split())\n",
    "#오류\n",
    "if a!= 1 and a!= 2 and a!=3:\n",
    "    print(\"잘못된 입력\")\n",
    "if b!=1 and b!=2 and b!=3:\n",
    "    print(\"잘못된 입력\")\n",
    "else:  \n",
    "#A가 이기는 경우\n",
    " if (a == 1 and b ==3) or (a == 2 and b == 1) or (a==3 and b ==2):\n",
    "    print(\"A승B패\")\n",
    "\n",
    "#비기는 경우\n",
    " elif a==b:\n",
    "  print(\"무승부입니다.\")\n",
    "\n",
    "#B가 이기는경우\n",
    " else:\n",
    "    print(\"B승A패\")\n"
   ]
  },
  {
   "cell_type": "code",
   "execution_count": null,
   "id": "ed42b577-9f8a-4261-b3b2-c2bed1ca3931",
   "metadata": {},
   "outputs": [
    {
     "name": "stderr",
     "output_type": "stream",
     "text": [
      "<>:6: SyntaxWarning: invalid decimal literal\n",
      "<>:6: SyntaxWarning: invalid decimal literal\n",
      "/tmp/ipykernel_462398/2035132280.py:6: SyntaxWarning: invalid decimal literal\n",
      "  elif(a == 1and b ==3) or (a==2 and b==1) or (a==3 and b==2):\n"
     ]
    }
   ],
   "source": [
    "a, b = map(int, input().split())\n",
    "\n",
    "# 1, 2, 3 이외의 숫자일 경우\n",
    "if a < 1 or a > 3 or b < 1 or b > 3:\n",
    "    print(\"잘못된입력\")\n",
    "elif a == b:\n",
    "    print(\"무승부\")\n",
    "elif (a == 1 and b == 3) or (a == 2 and b == 1) or (a == 3 and b == 2):\n",
    "    print(\"A승B패\")\n",
    "else:\n",
    "    print(\"B승A패\")"
   ]
  }
 ],
 "metadata": {
  "kernelspec": {
   "display_name": "Python 3 (ipykernel)",
   "language": "python",
   "name": "python3"
  },
  "language_info": {
   "codemirror_mode": {
    "name": "ipython",
    "version": 3
   },
   "file_extension": ".py",
   "mimetype": "text/x-python",
   "name": "python",
   "nbconvert_exporter": "python",
   "pygments_lexer": "ipython3",
   "version": "3.12.6"
  }
 },
 "nbformat": 4,
 "nbformat_minor": 5
}
