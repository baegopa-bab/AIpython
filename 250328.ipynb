{
  "nbformat": 4,
  "nbformat_minor": 0,
  "metadata": {
    "colab": {
      "provenance": [],
      "authorship_tag": "ABX9TyNquuEyT8DxF/b2yfnsK4BF",
      "include_colab_link": true
    },
    "kernelspec": {
      "name": "python3",
      "display_name": "Python 3"
    },
    "language_info": {
      "name": "python"
    }
  },
  "cells": [
    {
      "cell_type": "markdown",
      "metadata": {
        "id": "view-in-github",
        "colab_type": "text"
      },
      "source": [
        "<a href=\"https://colab.research.google.com/github/baegopa-bab/AIpython/blob/main/250328.ipynb\" target=\"_parent\"><img src=\"https://colab.research.google.com/assets/colab-badge.svg\" alt=\"Open In Colab\"/></a>"
      ]
    },
    {
      "cell_type": "code",
      "execution_count": 3,
      "metadata": {
        "colab": {
          "base_uri": "https://localhost:8080/"
        },
        "id": "NqM_64ymT6W-",
        "outputId": "bfc92c86-0f46-447c-f785-4d4106061897"
      },
      "outputs": [
        {
          "output_type": "stream",
          "name": "stdout",
          "text": [
            "첫 번째 정수를 입력하세요:5\n",
            "두 번째 정수를 입력하세요:9\n",
            "두 번째 정수가 더 큽니다\n"
          ]
        }
      ],
      "source": [
        "# 문제 3: 두 수 비교하기\n",
        "num1=input(\"첫 번째 정수를 입력하세요:\")\n",
        "num2=input(\"두 번째 정수를 입력하세요:\")\n",
        "num1=int(num1)\n",
        "num2=int(num2)\n",
        "if num1 > num2:\n",
        "  print('첫 번째 정수가 더 큽니다')\n",
        "elif num1 < num2:\n",
        "    print('두 번째 정수가 더 큽니다')\n",
        "else:\n",
        "      print('두 수가 똑같습니다')\n"
      ]
    },
    {
      "cell_type": "code",
      "source": [
        "#문제: 세 수 중 가장 큰 수 찾기\n",
        "num1=input(\"첫 번째 정수를 입력하세요:\")\n",
        "num2=input(\"두 번째 정수를 입력하세요:\")\n",
        "num3=input(\"세 번째 정수를 입력하세요:\")\n",
        "num1=int(num1)\n",
        "num2=int(num2)\n",
        "num3=int(num3)\n",
        "\n",
        "max_num=num1\n",
        "\n",
        "if num2 > max_num:\n",
        "  max_num=num2\n",
        "\n",
        "if num3 > max_num:\n",
        "  max_num=num3\n",
        "\n",
        "print(f\"입력하신 세 수 {num1}, {num2}, {num3} 중에서 가장 큰 수는 {max_num}입니다\")"
      ],
      "metadata": {
        "colab": {
          "base_uri": "https://localhost:8080/"
        },
        "id": "I-4oxzfaXns_",
        "outputId": "79f5574c-9911-4080-bd09-f2cb098261df"
      },
      "execution_count": 16,
      "outputs": [
        {
          "output_type": "stream",
          "name": "stdout",
          "text": [
            "첫 번째 정수를 입력하세요:5\n",
            "두 번째 정수를 입력하세요:100\n",
            "세 번째 정수를 입력하세요:2\n",
            "입력하신 세 수 5, 100, 2 중에서 가장 큰 수는 100입니다\n"
          ]
        }
      ]
    },
    {
      "cell_type": "code",
      "source": [
        "# 문제 4: 학점 판별하기\n",
        "score=input(\"점수를 입력하세요:\")\n",
        "score=int(score)\n",
        "\n",
        "if 0<=score<=100:\n",
        "  if score >= 90:\n",
        "    grade = 'A'\n",
        "  elif score >= 80:\n",
        "    grade = 'B'\n",
        "  elif score >= 70:\n",
        "    grade = 'C'\n",
        "  elif score >= 60:\n",
        "    grade = 'D'\n",
        "  else:\n",
        "    grade = 'F'\n",
        "  print(f\"당신의 학점은 {grade}입니다.\")\n",
        "else:\n",
        "  print(\"점수는 0부터 100 사이의 값이어야 합니다\")"
      ],
      "metadata": {
        "colab": {
          "base_uri": "https://localhost:8080/"
        },
        "id": "XQoyCTFVcYff",
        "outputId": "fa7e2c9c-0b5a-4ff6-f3cb-656011e3d7c6"
      },
      "execution_count": 23,
      "outputs": [
        {
          "output_type": "stream",
          "name": "stdout",
          "text": [
            "점수를 입력하세요:1000\n",
            "점수는 0부터 100 사이의 값이어야 합니다\n"
          ]
        }
      ]
    },
    {
      "cell_type": "code",
      "source": [
        "#문제 5: 윤년 판별하기\n",
        "year=input(\"연도를 입력하세요:\")\n",
        "year=int(year)\n",
        "\n",
        "if (year % 4 == 0 and year % 100 != 0) or (year % 400 == 0):\n",
        "  print(f\"{year}년은 윤년입니다.\")\n",
        "else:\n",
        "  print(f\"{year}년은 윤년이 아닙니다.\")"
      ],
      "metadata": {
        "colab": {
          "base_uri": "https://localhost:8080/"
        },
        "id": "WxS_TLSQdsaw",
        "outputId": "de22665d-9c47-4770-e003-3b938213dadb"
      },
      "execution_count": 33,
      "outputs": [
        {
          "output_type": "stream",
          "name": "stdout",
          "text": [
            "연도를 입력하세요:2000\n",
            "2000년은 윤년입니다.\n"
          ]
        }
      ]
    },
    {
      "cell_type": "code",
      "source": [
        "for i in range(5): # 0~4까지 반복\n",
        " print(\"반복!\", i)"
      ],
      "metadata": {
        "colab": {
          "base_uri": "https://localhost:8080/"
        },
        "id": "bee_tvP2lHIv",
        "outputId": "240d5a99-2d4a-4ff8-fb1d-162152ef1b6f"
      },
      "execution_count": 35,
      "outputs": [
        {
          "output_type": "stream",
          "name": "stdout",
          "text": [
            "반복! 0\n",
            "반복! 1\n",
            "반복! 2\n",
            "반복! 3\n",
            "반복! 4\n"
          ]
        }
      ]
    },
    {
      "cell_type": "code",
      "source": [
        "# 1~5까지 반복\n",
        "for i in range(1, 6):\n",
        " print(\"반복!\", i)"
      ],
      "metadata": {
        "colab": {
          "base_uri": "https://localhost:8080/"
        },
        "id": "nJT8_9GalTL-",
        "outputId": "58bb1f78-763d-4787-c9f0-393a728968e1"
      },
      "execution_count": 40,
      "outputs": [
        {
          "output_type": "stream",
          "name": "stdout",
          "text": [
            "반복! 1\n",
            "반복! 2\n",
            "반복! 3\n",
            "반복! 4\n",
            "반복! 5\n"
          ]
        }
      ]
    },
    {
      "cell_type": "code",
      "source": [
        "# 1~5까지 반복\n",
        "for i in range(5):\n",
        " print(\"반복!\", i+1)"
      ],
      "metadata": {
        "colab": {
          "base_uri": "https://localhost:8080/"
        },
        "id": "x39RosDimBLO",
        "outputId": "5342459a-8b6d-4eac-ebb7-2a304a4254bd"
      },
      "execution_count": 41,
      "outputs": [
        {
          "output_type": "stream",
          "name": "stdout",
          "text": [
            "반복! 1\n",
            "반복! 2\n",
            "반복! 3\n",
            "반복! 4\n",
            "반복! 5\n"
          ]
        }
      ]
    },
    {
      "cell_type": "code",
      "source": [
        "for i in range(1, 10, 2):\n",
        " print(\"반복\", i)"
      ],
      "metadata": {
        "colab": {
          "base_uri": "https://localhost:8080/"
        },
        "id": "mTEyFVXvmg6e",
        "outputId": "5f9e70a9-f78a-4bfa-9deb-6112a8beef30"
      },
      "execution_count": 44,
      "outputs": [
        {
          "output_type": "stream",
          "name": "stdout",
          "text": [
            "반복 1\n",
            "반복 3\n",
            "반복 5\n",
            "반복 7\n",
            "반복 9\n"
          ]
        }
      ]
    },
    {
      "cell_type": "code",
      "source": [
        "for i in [1,2,'C',4,5,]:\n",
        "  print(\"반복\", i)"
      ],
      "metadata": {
        "colab": {
          "base_uri": "https://localhost:8080/"
        },
        "id": "RF3l-_nzmzLm",
        "outputId": "59df4034-3d1c-43c2-ab88-6f33d5a9638d"
      },
      "execution_count": 46,
      "outputs": [
        {
          "output_type": "stream",
          "name": "stdout",
          "text": [
            "반복 1\n",
            "반복 2\n",
            "반복 C\n",
            "반복 4\n",
            "반복 5\n"
          ]
        }
      ]
    },
    {
      "cell_type": "code",
      "source": [
        "count = 0\n",
        "while count < 3:\n",
        " print(\"반복 중:\", count)\n",
        " count += 1 # 하나씩 증가"
      ],
      "metadata": {
        "colab": {
          "base_uri": "https://localhost:8080/"
        },
        "id": "JoiAk6wYnba-",
        "outputId": "5dd8da36-efa1-4e08-955f-61c5623d4e36"
      },
      "execution_count": 47,
      "outputs": [
        {
          "output_type": "stream",
          "name": "stdout",
          "text": [
            "반복 중: 0\n",
            "반복 중: 1\n",
            "반복 중: 2\n"
          ]
        }
      ]
    },
    {
      "cell_type": "code",
      "source": [
        "# 문제 1: 1부터 N까지의 합 계산하기\n",
        "n=input(\"양의 정수 N을 입력하세요:\")\n",
        "n=int(n)\n",
        "\n",
        "if n <= 0:\n",
        "  print(\"N은 양의 정수여야 합니다.\")\n",
        "else:\n",
        "  total = 0\n",
        "  for i in range(1, n+1):\n",
        "    total += i\n",
        "print(f\"1부터 {n}까지의 합은: {total} 입니다.\")"
      ],
      "metadata": {
        "colab": {
          "base_uri": "https://localhost:8080/"
        },
        "id": "EQsJp-UVozx1",
        "outputId": "3de8ef92-a143-4b8f-a90c-3b87b448f035"
      },
      "execution_count": 50,
      "outputs": [
        {
          "output_type": "stream",
          "name": "stdout",
          "text": [
            "양의 정수 N을 입력하세요:5\n",
            "1부터 5까지의 합은: 15 입니다.\n"
          ]
        }
      ]
    },
    {
      "cell_type": "code",
      "source": [
        "# 문제 4: 특정 조건까지 반복하기 (while 루프)\n",
        "count = 0\n",
        "print(\"0부터 9까지 출력:\")\n",
        "while count < 10:\n",
        " print(count)\n",
        " count += 1\n",
        "print(\"while 루프 종료\")"
      ],
      "metadata": {
        "colab": {
          "base_uri": "https://localhost:8080/"
        },
        "id": "0NZiVj6YrrIW",
        "outputId": "ff115d66-d539-43af-b37b-c0fc4ab11dc1"
      },
      "execution_count": 52,
      "outputs": [
        {
          "output_type": "stream",
          "name": "stdout",
          "text": [
            "0부터 9까지 출력:\n",
            "0\n",
            "1\n",
            "2\n",
            "3\n",
            "4\n",
            "5\n",
            "6\n",
            "7\n",
            "8\n",
            "9\n",
            "while 루프 종료\n"
          ]
        }
      ]
    },
    {
      "cell_type": "code",
      "source": [
        "# 문제 4: 특정 조건까지 반복하기 (for 루프)\n",
        "print(\"0부터 9까지 출력:\")\n",
        "for i in range(10):\n",
        "  print(i)\n",
        "print(\"for 루프 종료\")"
      ],
      "metadata": {
        "colab": {
          "base_uri": "https://localhost:8080/"
        },
        "id": "mY6G9fYMsPv9",
        "outputId": "41e35eb6-e34c-406c-ac05-d0a8661e1acb"
      },
      "execution_count": 57,
      "outputs": [
        {
          "output_type": "stream",
          "name": "stdout",
          "text": [
            "0부터 9까지 출력:\n",
            "0\n",
            "1\n",
            "2\n",
            "3\n",
            "4\n",
            "5\n",
            "6\n",
            "7\n",
            "8\n",
            "9\n",
            "for 루프 종료\n"
          ]
        }
      ]
    }
  ]
}