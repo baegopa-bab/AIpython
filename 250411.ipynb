{
 "cells": [
  {
   "cell_type": "code",
   "execution_count": 9,
   "id": "d6290604-9116-44a7-9423-755153a86877",
   "metadata": {},
   "outputs": [
    {
     "name": "stdout",
     "output_type": "stream",
     "text": [
      "남자\n"
     ]
    }
   ],
   "source": [
    "i='250411-3456789'\n",
    "\n",
    "if i[7] == '3':\n",
    "  print('남자')\n",
    "else:\n",
    "    print('여자')"
   ]
  },
  {
   "cell_type": "code",
   "execution_count": 14,
   "id": "4c919035-06d5-482f-92e6-e1d8864ede17",
   "metadata": {},
   "outputs": [
    {
     "name": "stdin",
     "output_type": "stream",
     "text": [
      "문자열:  aba\n"
     ]
    },
    {
     "name": "stdout",
     "output_type": "stream",
     "text": [
      "회문\n"
     ]
    }
   ],
   "source": [
    "s1 = input('문자열: ')\n",
    "s2=''\n",
    "\n",
    "for i in range(len(s1)-1, -1, -1):\n",
    "    s2=s2 + s1[i]\n",
    "\n",
    "if s1 == s2:\n",
    "    print('회문')\n",
    "else:\n",
    "    print('회문아님')"
   ]
  },
  {
   "cell_type": "code",
   "execution_count": 15,
   "id": "cfb2e74e-d448-479a-971e-f2d727a58091",
   "metadata": {},
   "outputs": [
    {
     "name": "stdout",
     "output_type": "stream",
     "text": [
      "['부산시', '금정구']\n"
     ]
    }
   ],
   "source": [
    "s = '부산시 금정구'\n",
    "print(s.split(' '))"
   ]
  },
  {
   "cell_type": "code",
   "execution_count": 16,
   "id": "830fc330-b3a8-42ce-b0ce-38565c2dd758",
   "metadata": {},
   "outputs": [
    {
     "name": "stdout",
     "output_type": "stream",
     "text": [
      "부산시, 금정구\n"
     ]
    }
   ],
   "source": [
    "l = ['부산시', '금정구']\n",
    "print(', '.join(l))"
   ]
  },
  {
   "cell_type": "code",
   "execution_count": 23,
   "id": "b56456f3-83be-4887-ab7b-f016daa53379",
   "metadata": {},
   "outputs": [
    {
     "name": "stdout",
     "output_type": "stream",
     "text": [
      "False\n",
      "True\n",
      "True\n",
      "True\n",
      "False\n",
      "True\n"
     ]
    }
   ],
   "source": [
    "print('1234kg'.isdigit())\n",
    "print('python'.isalpha())\n",
    "print('pass123'.isalnum())\n",
    "print('python'.islower())\n",
    "print('Python'.isupper())\n",
    "print(' '.isspace())"
   ]
  },
  {
   "cell_type": "code",
   "execution_count": 21,
   "id": "a552c2da-a937-48c7-a47c-3f8aa27fb801",
   "metadata": {},
   "outputs": [
    {
     "name": "stdin",
     "output_type": "stream",
     "text": [
      "아이디:  dkakt12\n"
     ]
    },
    {
     "name": "stdout",
     "output_type": "stream",
     "text": [
      "아이디는 dkakt12입니다.\n"
     ]
    }
   ],
   "source": [
    "while True:\n",
    "    id = input('아이디: ')\n",
    "    if len(id)<5:\n",
    "        print('길이가 짧습니다.')\n",
    "    elif id.isalnum()!=True:\n",
    "        print('아이디는 알파벳과 숫자로 이루어져야합니다.')\n",
    "    else:\n",
    "        break\n",
    "print(f'아이디는 {id}입니다.')"
   ]
  },
  {
   "cell_type": "code",
   "execution_count": 24,
   "id": "26f60323-047f-4c05-96b3-f28bbd50aab6",
   "metadata": {},
   "outputs": [],
   "source": [
    "#고유하다 = 유일하다 & 다 가지고 있다"
   ]
  },
  {
   "cell_type": "code",
   "execution_count": 26,
   "id": "ec06b521-f323-4771-969a-6006168faa6f",
   "metadata": {},
   "outputs": [
    {
     "data": {
      "text/plain": [
       "{'이름': '김철수', '나이': 21, '학과': '컴퓨터공학'}"
      ]
     },
     "execution_count": 26,
     "metadata": {},
     "output_type": "execute_result"
    }
   ],
   "source": [
    "학생 = {\"이름\": \"김철수\", \"나이\": 20, \"학과\": \"컴퓨터공학\"}\n",
    "\n",
    "# 값 변경하기\n",
    "학생[\"나이\"] = 21\n",
    "학생"
   ]
  },
  {
   "cell_type": "code",
   "execution_count": 28,
   "id": "900d5c43-d2bf-40ba-8065-d87e6aefd927",
   "metadata": {},
   "outputs": [
    {
     "data": {
      "text/plain": [
       "['나는', '파이썬을', '공부한다', '파이썬은', '재미있다', '나는', '코딩을', '좋아한다']"
      ]
     },
     "execution_count": 28,
     "metadata": {},
     "output_type": "execute_result"
    }
   ],
   "source": [
    "문장 = \"나는 파이썬을 공부한다 파이썬은 재미있다 나는 코딩을 좋아한다\"\n",
    "단어들 = 문장.split()\n",
    "단어들"
   ]
  }
 ],
 "metadata": {
  "kernelspec": {
   "display_name": "Python 3 (ipykernel)",
   "language": "python",
   "name": "python3"
  },
  "language_info": {
   "codemirror_mode": {
    "name": "ipython",
    "version": 3
   },
   "file_extension": ".py",
   "mimetype": "text/x-python",
   "name": "python",
   "nbconvert_exporter": "python",
   "pygments_lexer": "ipython3",
   "version": "3.12.6"
  }
 },
 "nbformat": 4,
 "nbformat_minor": 5
}
